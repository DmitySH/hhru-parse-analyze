{
 "cells": [
  {
   "cell_type": "code",
   "execution_count": 136,
   "metadata": {
    "collapsed": true
   },
   "outputs": [],
   "source": [
    "import requests\n",
    "from selenium import webdriver\n",
    "from webdriver_manager.chrome import ChromeDriverManager\n",
    "from selenium.webdriver.chrome.service import Service\n",
    "from bs4 import BeautifulSoup\n",
    "from selenium.webdriver.common.by import By\n",
    "from selenium.webdriver.support import expected_conditions as EC\n",
    "import pandas as pd\n",
    "import numpy as np\n",
    "import re"
   ]
  },
  {
   "cell_type": "code",
   "execution_count": 137,
   "outputs": [
    {
     "name": "stderr",
     "output_type": "stream",
     "text": [
      "\n",
      "\n",
      "====== WebDriver manager ======\n",
      "Current google-chrome version is 100.0.4896\n",
      "Get LATEST chromedriver version for 100.0.4896 google-chrome\n",
      "Driver [C:\\Users\\dm1tr\\.wdm\\drivers\\chromedriver\\win32\\100.0.4896.60\\chromedriver.exe] found in cache\n"
     ]
    }
   ],
   "source": [
    "URL = 'https://hh.ru'\n",
    "profession = 'Программист'\n",
    "\n",
    "service = Service(executable_path=ChromeDriverManager().install())\n",
    "driver = webdriver.Chrome(service=service)\n",
    "driver.get(URL)\n",
    "driver.implicitly_wait(1)\n",
    "\n",
    "\n",
    "headers = {\n",
    "    'Accept': '*/*',\n",
    "    'User-Agent': 'Custom'\n",
    "}"
   ],
   "metadata": {
    "collapsed": false,
    "pycharm": {
     "name": "#%%\n"
    }
   }
  },
  {
   "cell_type": "code",
   "execution_count": 138,
   "outputs": [],
   "source": [
    "src = driver.page_source\n",
    "soup = BeautifulSoup(src, 'lxml')"
   ],
   "metadata": {
    "collapsed": false,
    "pycharm": {
     "name": "#%%\n"
    }
   }
  },
  {
   "cell_type": "code",
   "execution_count": 139,
   "outputs": [
    {
     "name": "stdout",
     "output_type": "stream",
     "text": [
      "<div class=\"dashboard-tiles-item__body\"><div class=\"dashboard-tiles-item__content\"><div class=\"dashboard-tiles-item__title\">Вакансии дня</div><div class=\"dashboard-tiles-item__salary\">45 000 – 95 000 руб.</div></div><div class=\"dashboard-tiles-item__counter\"><span>14 вакансий</span></div></div>\n",
      "\n",
      "<div class=\"dashboard-tiles-item__body\"><div class=\"dashboard-tiles-item__content\"><div class=\"dashboard-tiles-item__title\">Компании дня</div><div class=\"dashboard-tiles-item__salary\"></div></div><div class=\"dashboard-tiles-item__counter\"><span>1942<!-- --> <!-- -->вакансии</span></div></div>\n",
      "\n",
      "<div class=\"dashboard-tiles-item__body\"><div class=\"dashboard-tiles-item__content\"><div class=\"dashboard-tiles-item__title\">Работа из дома</div><div class=\"dashboard-tiles-item__salary\"></div></div><div class=\"dashboard-tiles-item__counter\"><span>37238<!-- --> <!-- -->вакансий</span></div></div>\n",
      "\n",
      "<div class=\"dashboard-tiles-item__body\"><div class=\"dashboard-tiles-item__content\"><div class=\"dashboard-tiles-item__title\">Подработка</div><div class=\"dashboard-tiles-item__salary\">до <!-- -->340 000<!-- --> <!-- -->руб.</div></div><div class=\"dashboard-tiles-item__counter\"><span>16312<!-- --> <!-- -->вакансий</span></div></div>\n",
      "\n",
      "<div class=\"dashboard-tiles-item__body\"><div class=\"dashboard-tiles-item__content\"><div class=\"dashboard-tiles-item__title\">Курьер</div><div class=\"dashboard-tiles-item__salary\">до <!-- -->165 000<!-- --> <!-- -->руб.</div></div><div class=\"dashboard-tiles-item__counter\"><span>2156<!-- --> <!-- -->вакансий</span></div></div>\n",
      "\n",
      "<div class=\"dashboard-tiles-item__body\"><div class=\"dashboard-tiles-item__content\"><div class=\"dashboard-tiles-item__title\">Водитель</div><div class=\"dashboard-tiles-item__salary\">5 000 – 200 000 <!-- -->руб.</div></div><div class=\"dashboard-tiles-item__counter\"><span>3552<!-- --> <!-- -->вакансии</span></div></div>\n",
      "\n",
      "<div class=\"dashboard-tiles-item__body\"><div class=\"dashboard-tiles-item__content\"><div class=\"dashboard-tiles-item__title\">Продавец</div><div class=\"dashboard-tiles-item__salary\">15 000 – 150 000 <!-- -->руб.</div></div><div class=\"dashboard-tiles-item__counter\"><span>8370<!-- --> <!-- -->вакансий</span></div></div>\n",
      "\n",
      "<div class=\"dashboard-tiles-item__body\"><div class=\"dashboard-tiles-item__content\"><div class=\"dashboard-tiles-item__title\">Кассир</div><div class=\"dashboard-tiles-item__salary\">15 000 – 100 000 <!-- -->руб.</div></div><div class=\"dashboard-tiles-item__counter\"><span>5774<!-- --> <!-- -->вакансии</span></div></div>\n",
      "\n",
      "<div class=\"dashboard-tiles-item__body\"><div class=\"dashboard-tiles-item__content\"><div class=\"dashboard-tiles-item__title\">Администратор</div><div class=\"dashboard-tiles-item__salary\">до <!-- -->225 000<!-- --> <!-- -->руб.</div></div><div class=\"dashboard-tiles-item__counter\"><span>7885<!-- --> <!-- -->вакансий</span></div></div>\n",
      "\n",
      "<div class=\"dashboard-tiles-item__body\"><div class=\"dashboard-tiles-item__content\"><div class=\"dashboard-tiles-item__title\">Оператор</div><div class=\"dashboard-tiles-item__salary\">до <!-- -->200 000<!-- --> <!-- -->руб.</div></div><div class=\"dashboard-tiles-item__counter\"><span>4820<!-- --> <!-- -->вакансий</span></div></div>\n",
      "\n",
      "<div class=\"dashboard-tiles-item__body\"><div class=\"dashboard-tiles-item__content\"><div class=\"dashboard-tiles-item__title\">Программист</div><div class=\"dashboard-tiles-item__salary\">до <!-- -->515 000<!-- --> <!-- -->руб.</div></div><div class=\"dashboard-tiles-item__counter\"><span>18305<!-- --> <!-- -->вакансий</span></div></div>\n",
      "\n",
      "<div class=\"dashboard-tiles-item__body\"><div class=\"dashboard-tiles-item__content\"><div class=\"dashboard-tiles-item__title\">Менеджер</div><div class=\"dashboard-tiles-item__salary\">до <!-- -->345 000<!-- --> <!-- -->руб.</div></div><div class=\"dashboard-tiles-item__counter\"><span>30636<!-- --> <!-- -->вакансий</span></div></div>\n",
      "\n"
     ]
    }
   ],
   "source": [
    "main_block = soup.find_all('div', class_='dashboard-tiles-item__body')\n",
    "\n",
    "for b in main_block:\n",
    "    print(b)\n",
    "    print()"
   ],
   "metadata": {
    "collapsed": false,
    "pycharm": {
     "name": "#%%\n"
    }
   }
  },
  {
   "cell_type": "code",
   "execution_count": 140,
   "outputs": [
    {
     "name": "stdout",
     "output_type": "stream",
     "text": [
      "<div class=\"dashboard-tiles-item__body\"><div class=\"dashboard-tiles-item__content\"><div class=\"dashboard-tiles-item__title\">Программист</div><div class=\"dashboard-tiles-item__salary\">до <!-- -->515 000<!-- --> <!-- -->руб.</div></div><div class=\"dashboard-tiles-item__counter\"><span>18305<!-- --> <!-- -->вакансий</span></div></div>\n"
     ]
    }
   ],
   "source": [
    "for sub in main_block:\n",
    "    if sub.find('div', class_='dashboard-tiles-item__title').text == profession:\n",
    "        profession_selected_block = sub\n",
    "print(profession_selected_block)"
   ],
   "metadata": {
    "collapsed": false,
    "pycharm": {
     "name": "#%%\n"
    }
   }
  },
  {
   "cell_type": "code",
   "execution_count": 141,
   "outputs": [],
   "source": [
    "from selenium.webdriver.support.wait import WebDriverWait\n",
    "\n",
    "professions = driver.find_elements(by=By.CLASS_NAME, value='dashboard-tiles-item__title')\n",
    "\n",
    "links_to_profession = list()\n",
    "\n",
    "if professions:\n",
    "    professions[0].click()\n",
    "    professions[0].click()\n",
    "\n",
    "for elem in professions:\n",
    "    if elem.text == profession:\n",
    "        elem.click()\n",
    "        element = WebDriverWait(driver, 3).until(\n",
    "            EC.presence_of_element_located((By.XPATH, \"//*[@class='multiple-column-list multiple-column-list_wide']\"))\n",
    "        )\n",
    "        soup = BeautifulSoup(driver.page_source, 'lxml')\n",
    "        ul = soup.find(class_='multiple-column-list multiple-column-list_wide')\n",
    "        for li in ul:\n",
    "            links_to_profession.append(li.a.get('href'))"
   ],
   "metadata": {
    "collapsed": false,
    "pycharm": {
     "name": "#%%\n"
    }
   }
  },
  {
   "cell_type": "code",
   "execution_count": null,
   "outputs": [],
   "source": [
    "data = {'prof_type': list(), 'salary': list()}\n",
    "page = 0\n",
    "for link in links_to_profession[:3]:\n",
    "    req = requests.get(f'{URL}{link}&page={page}', headers={'User-Agent': 'Custom'})\n",
    "\n",
    "    while req.status_code == 200:\n",
    "        soup = BeautifulSoup(req.text, parser='lxml')\n",
    "\n",
    "        prof_type = soup.find('h1', class_='bloko-header-section-3').text\n",
    "        prof_type = re.compile('«.*»').findall(prof_type)[0][1:-1]\n",
    "\n",
    "        for x in soup.find_all('div', class_='vacancy-serp-item'):\n",
    "            raw_salary = x.find('span', class_='bloko-header-section-3')\n",
    "\n",
    "            data['prof_type'].append(prof_type)\n",
    "\n",
    "            if not raw_salary:\n",
    "                data['salary'].append(None)\n",
    "            else:\n",
    "                salary = re.compile('\\d+').findall(raw_salary.text.replace(' ', ''))\n",
    "\n",
    "                if len(salary) > 1:\n",
    "                    data['salary'].append(f'{salary[0]}-{salary[1]}')\n",
    "                elif 'от' in raw_salary.text:\n",
    "                    data['salary'].append(f'от {salary[0]}')\n",
    "                elif 'до' in raw_salary.text:\n",
    "                    data['salary'].append(f'до {salary[0]}')\n",
    "                else:\n",
    "                    data['salary'].append(None)\n",
    "        page += 1\n",
    "        req = requests.get(f'{URL}{link}&page={page}', headers={'User-Agent': 'Custom'})\n",
    "    page = 0\n",
    "\n",
    "\n",
    "\n",
    "df = pd.DataFrame(data=data)"
   ],
   "metadata": {
    "collapsed": false,
    "pycharm": {
     "name": "#%%\n",
     "is_executing": true
    }
   }
  },
  {
   "cell_type": "code",
   "execution_count": 186,
   "outputs": [],
   "source": [],
   "metadata": {
    "collapsed": false,
    "pycharm": {
     "name": "#%%\n"
    }
   }
  },
  {
   "cell_type": "code",
   "execution_count": null,
   "outputs": [],
   "source": [],
   "metadata": {
    "collapsed": false,
    "pycharm": {
     "name": "#%%\n"
    }
   }
  }
 ],
 "metadata": {
  "kernelspec": {
   "display_name": "Python 3",
   "language": "python",
   "name": "python3"
  },
  "language_info": {
   "codemirror_mode": {
    "name": "ipython",
    "version": 2
   },
   "file_extension": ".py",
   "mimetype": "text/x-python",
   "name": "python",
   "nbconvert_exporter": "python",
   "pygments_lexer": "ipython2",
   "version": "2.7.6"
  }
 },
 "nbformat": 4,
 "nbformat_minor": 0
}