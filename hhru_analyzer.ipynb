{
 "cells": [
  {
   "cell_type": "code",
   "execution_count": 37,
   "metadata": {
    "collapsed": true
   },
   "outputs": [],
   "source": [
    "import requests\n",
    "from selenium import webdriver\n",
    "from webdriver_manager.chrome import ChromeDriverManager\n",
    "from selenium.webdriver.chrome.service import Service\n",
    "from bs4 import BeautifulSoup"
   ]
  },
  {
   "cell_type": "code",
   "execution_count": 38,
   "outputs": [
    {
     "name": "stderr",
     "output_type": "stream",
     "text": [
      "\n",
      "\n",
      "====== WebDriver manager ======\n",
      "Current google-chrome version is 100.0.4896\n",
      "Get LATEST chromedriver version for 100.0.4896 google-chrome\n",
      "Driver [C:\\Users\\dm1tr\\.wdm\\drivers\\chromedriver\\win32\\100.0.4896.60\\chromedriver.exe] found in cache\n"
     ]
    }
   ],
   "source": [
    "URL = 'https://hh.ru'\n",
    "profession = 'Программист'\n",
    "\n",
    "service = Service(executable_path=ChromeDriverManager().install())\n",
    "driver = webdriver.Chrome(service=service)\n",
    "driver.get(URL)\n",
    "driver.implicitly_wait(1)\n",
    "\n",
    "\n",
    "\n",
    "# headers = {\n",
    "#     'Accept': '*/*',\n",
    "#     'User-Agent': 'Custom'\n",
    "# }\n",
    "#\n",
    "# req = requests.get(url, headers={'User-Agent': 'Custom'})"
   ],
   "metadata": {
    "collapsed": false,
    "pycharm": {
     "name": "#%%\n"
    }
   }
  },
  {
   "cell_type": "code",
   "execution_count": 41,
   "outputs": [],
   "source": [
    "src = driver.page_source\n",
    "soup = BeautifulSoup(src, 'lxml')"
   ],
   "metadata": {
    "collapsed": false,
    "pycharm": {
     "name": "#%%\n"
    }
   }
  },
  {
   "cell_type": "code",
   "execution_count": 42,
   "outputs": [
    {
     "name": "stdout",
     "output_type": "stream",
     "text": [
      "<div class=\"dashboard-tiles-item__body\"><div class=\"dashboard-tiles-item__content\"><div class=\"dashboard-tiles-item__title\">Вакансии дня</div><div class=\"dashboard-tiles-item__salary\">50 000 – 75 000 руб.</div></div><div class=\"dashboard-tiles-item__counter\"><span>14 вакансий</span></div></div>\n",
      "\n",
      "<div class=\"dashboard-tiles-item__body\"><div class=\"dashboard-tiles-item__content\"><div class=\"dashboard-tiles-item__title\">Компании дня</div><div class=\"dashboard-tiles-item__salary\"></div></div><div class=\"dashboard-tiles-item__counter\"><span>1913<!-- --> <!-- -->вакансий</span></div></div>\n",
      "\n",
      "<div class=\"dashboard-tiles-item__body\"><div class=\"dashboard-tiles-item__content\"><div class=\"dashboard-tiles-item__title\">Работа из дома</div><div class=\"dashboard-tiles-item__salary\"></div></div><div class=\"dashboard-tiles-item__counter\"><span>37260<!-- --> <!-- -->вакансий</span></div></div>\n",
      "\n",
      "<div class=\"dashboard-tiles-item__body\"><div class=\"dashboard-tiles-item__content\"><div class=\"dashboard-tiles-item__title\">Подработка</div><div class=\"dashboard-tiles-item__salary\">до <!-- -->340 000<!-- --> <!-- -->руб.</div></div><div class=\"dashboard-tiles-item__counter\"><span>16318<!-- --> <!-- -->вакансий</span></div></div>\n",
      "\n",
      "<div class=\"dashboard-tiles-item__body\"><div class=\"dashboard-tiles-item__content\"><div class=\"dashboard-tiles-item__title\">Курьер</div><div class=\"dashboard-tiles-item__salary\">до <!-- -->165 000<!-- --> <!-- -->руб.</div></div><div class=\"dashboard-tiles-item__counter\"><span>2162<!-- --> <!-- -->вакансии</span></div></div>\n",
      "\n",
      "<div class=\"dashboard-tiles-item__body\"><div class=\"dashboard-tiles-item__content\"><div class=\"dashboard-tiles-item__title\">Водитель</div><div class=\"dashboard-tiles-item__salary\">до <!-- -->190 000<!-- --> <!-- -->руб.</div></div><div class=\"dashboard-tiles-item__counter\"><span>3559<!-- --> <!-- -->вакансий</span></div></div>\n",
      "\n",
      "<div class=\"dashboard-tiles-item__body\"><div class=\"dashboard-tiles-item__content\"><div class=\"dashboard-tiles-item__title\">Продавец</div><div class=\"dashboard-tiles-item__salary\">15 000 – 150 000 <!-- -->руб.</div></div><div class=\"dashboard-tiles-item__counter\"><span>8379<!-- --> <!-- -->вакансий</span></div></div>\n",
      "\n",
      "<div class=\"dashboard-tiles-item__body\"><div class=\"dashboard-tiles-item__content\"><div class=\"dashboard-tiles-item__title\">Кассир</div><div class=\"dashboard-tiles-item__salary\">15 000 – 100 000 <!-- -->руб.</div></div><div class=\"dashboard-tiles-item__counter\"><span>5776<!-- --> <!-- -->вакансий</span></div></div>\n",
      "\n",
      "<div class=\"dashboard-tiles-item__body\"><div class=\"dashboard-tiles-item__content\"><div class=\"dashboard-tiles-item__title\">Администратор</div><div class=\"dashboard-tiles-item__salary\">до <!-- -->225 000<!-- --> <!-- -->руб.</div></div><div class=\"dashboard-tiles-item__counter\"><span>7899<!-- --> <!-- -->вакансий</span></div></div>\n",
      "\n",
      "<div class=\"dashboard-tiles-item__body\"><div class=\"dashboard-tiles-item__content\"><div class=\"dashboard-tiles-item__title\">Оператор</div><div class=\"dashboard-tiles-item__salary\">до <!-- -->200 000<!-- --> <!-- -->руб.</div></div><div class=\"dashboard-tiles-item__counter\"><span>4821<!-- --> <!-- -->вакансия</span></div></div>\n",
      "\n",
      "<div class=\"dashboard-tiles-item__body\"><div class=\"dashboard-tiles-item__content\"><div class=\"dashboard-tiles-item__title\">Программист</div><div class=\"dashboard-tiles-item__salary\">до <!-- -->515 000<!-- --> <!-- -->руб.</div></div><div class=\"dashboard-tiles-item__counter\"><span>18323<!-- --> <!-- -->вакансии</span></div></div>\n",
      "\n",
      "<div class=\"dashboard-tiles-item__body\"><div class=\"dashboard-tiles-item__content\"><div class=\"dashboard-tiles-item__title\">Менеджер</div><div class=\"dashboard-tiles-item__salary\">до <!-- -->375 000<!-- --> <!-- -->руб.</div></div><div class=\"dashboard-tiles-item__counter\"><span>30655<!-- --> <!-- -->вакансий</span></div></div>\n",
      "\n"
     ]
    }
   ],
   "source": [
    "main_block = soup.find_all('div', class_='dashboard-tiles-item__body')\n",
    "\n",
    "for b in main_block:\n",
    "    print(b)\n",
    "    print()"
   ],
   "metadata": {
    "collapsed": false,
    "pycharm": {
     "name": "#%%\n"
    }
   }
  },
  {
   "cell_type": "code",
   "execution_count": 44,
   "outputs": [
    {
     "name": "stdout",
     "output_type": "stream",
     "text": [
      "<div class=\"dashboard-tiles-item__body\"><div class=\"dashboard-tiles-item__content\"><div class=\"dashboard-tiles-item__title\">Программист</div><div class=\"dashboard-tiles-item__salary\">до <!-- -->515 000<!-- --> <!-- -->руб.</div></div><div class=\"dashboard-tiles-item__counter\"><span>18323<!-- --> <!-- -->вакансии</span></div></div>\n"
     ]
    }
   ],
   "source": [
    "for sub in main_block:\n",
    "    if sub.find('div', class_='dashboard-tiles-item__title').text == profession:\n",
    "        profession_selected_block = sub\n",
    "print(profession_selected_block)"
   ],
   "metadata": {
    "collapsed": false,
    "pycharm": {
     "name": "#%%\n"
    }
   }
  },
  {
   "cell_type": "code",
   "execution_count": 46,
   "outputs": [],
   "source": [],
   "metadata": {
    "collapsed": false,
    "pycharm": {
     "name": "#%%\n"
    }
   }
  },
  {
   "cell_type": "code",
   "execution_count": null,
   "outputs": [],
   "source": [],
   "metadata": {
    "collapsed": false,
    "pycharm": {
     "name": "#%%\n"
    }
   }
  }
 ],
 "metadata": {
  "kernelspec": {
   "display_name": "Python 3",
   "language": "python",
   "name": "python3"
  },
  "language_info": {
   "codemirror_mode": {
    "name": "ipython",
    "version": 2
   },
   "file_extension": ".py",
   "mimetype": "text/x-python",
   "name": "python",
   "nbconvert_exporter": "python",
   "pygments_lexer": "ipython2",
   "version": "2.7.6"
  }
 },
 "nbformat": 4,
 "nbformat_minor": 0
}