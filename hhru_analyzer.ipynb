{
 "cells": [
  {
   "cell_type": "code",
   "execution_count": 1,
   "metadata": {
    "collapsed": true
   },
   "outputs": [],
   "source": [
    "import requests\n",
    "from selenium import webdriver\n",
    "from webdriver_manager.chrome import ChromeDriverManager\n",
    "from selenium.webdriver.chrome.service import Service\n",
    "from bs4 import BeautifulSoup\n",
    "from selenium.webdriver.common.by import By\n",
    "from selenium.webdriver.support import expected_conditions as EC\n",
    "import pandas as pd\n",
    "import numpy as np\n",
    "import re\n",
    "from selenium.common.exceptions import TimeoutException\n"
   ]
  },
  {
   "cell_type": "code",
   "execution_count": 2,
   "outputs": [
    {
     "name": "stderr",
     "output_type": "stream",
     "text": [
      "\n",
      "\n",
      "====== WebDriver manager ======\n",
      "Current google-chrome version is 100.0.4896\n",
      "Get LATEST chromedriver version for 100.0.4896 google-chrome\n",
      "Driver [C:\\Users\\dm1tr\\.wdm\\drivers\\chromedriver\\win32\\100.0.4896.60\\chromedriver.exe] found in cache\n"
     ]
    }
   ],
   "source": [
    "URL = 'https://hh.ru'\n",
    "profession = 'Программист'\n",
    "\n",
    "service = Service(executable_path=ChromeDriverManager().install())\n",
    "driver = webdriver.Chrome(service=service)\n",
    "driver.get(URL)\n",
    "driver.implicitly_wait(1)\n",
    "driver.set_page_load_timeout(10)\n",
    "\n",
    "headers = {\n",
    "    'Accept': '*/*',\n",
    "    'User-Agent': 'Custom'\n",
    "}"
   ],
   "metadata": {
    "collapsed": false,
    "pycharm": {
     "name": "#%%\n"
    }
   }
  },
  {
   "cell_type": "code",
   "execution_count": 3,
   "outputs": [],
   "source": [
    "src = driver.page_source\n",
    "soup = BeautifulSoup(src, 'lxml')"
   ],
   "metadata": {
    "collapsed": false,
    "pycharm": {
     "name": "#%%\n"
    }
   }
  },
  {
   "cell_type": "code",
   "execution_count": 4,
   "outputs": [
    {
     "name": "stdout",
     "output_type": "stream",
     "text": [
      "<div class=\"dashboard-tiles-item__body\"><div class=\"dashboard-tiles-item__content\"><div class=\"dashboard-tiles-item__title\">Вакансии дня</div><div class=\"dashboard-tiles-item__salary\"></div></div><div class=\"dashboard-tiles-item__counter\"> </div></div>\n",
      "\n",
      "<div class=\"dashboard-tiles-item__body\"><div class=\"dashboard-tiles-item__content\"><div class=\"dashboard-tiles-item__title\">Компании дня</div><div class=\"dashboard-tiles-item__salary\"></div></div><div class=\"dashboard-tiles-item__counter\"><span>1932<!-- --> <!-- -->вакансии</span></div></div>\n",
      "\n",
      "<div class=\"dashboard-tiles-item__body\"><div class=\"dashboard-tiles-item__content\"><div class=\"dashboard-tiles-item__title\">Работа из дома</div><div class=\"dashboard-tiles-item__salary\"></div></div><div class=\"dashboard-tiles-item__counter\"><span>37100<!-- --> <!-- -->вакансий</span></div></div>\n",
      "\n",
      "<div class=\"dashboard-tiles-item__body\"><div class=\"dashboard-tiles-item__content\"><div class=\"dashboard-tiles-item__title\">Подработка</div><div class=\"dashboard-tiles-item__salary\">до <!-- -->345 000<!-- --> <!-- -->руб.</div></div><div class=\"dashboard-tiles-item__counter\"><span>16339<!-- --> <!-- -->вакансий</span></div></div>\n",
      "\n",
      "<div class=\"dashboard-tiles-item__body\"><div class=\"dashboard-tiles-item__content\"><div class=\"dashboard-tiles-item__title\">Курьер</div><div class=\"dashboard-tiles-item__salary\">до <!-- -->165 000<!-- --> <!-- -->руб.</div></div><div class=\"dashboard-tiles-item__counter\"><span>2143<!-- --> <!-- -->вакансии</span></div></div>\n",
      "\n",
      "<div class=\"dashboard-tiles-item__body\"><div class=\"dashboard-tiles-item__content\"><div class=\"dashboard-tiles-item__title\">Водитель</div><div class=\"dashboard-tiles-item__salary\">до <!-- -->185 000<!-- --> <!-- -->руб.</div></div><div class=\"dashboard-tiles-item__counter\"><span>3544<!-- --> <!-- -->вакансии</span></div></div>\n",
      "\n",
      "<div class=\"dashboard-tiles-item__body\"><div class=\"dashboard-tiles-item__content\"><div class=\"dashboard-tiles-item__title\">Продавец</div><div class=\"dashboard-tiles-item__salary\">15 000 – 150 000 <!-- -->руб.</div></div><div class=\"dashboard-tiles-item__counter\"><span>8326<!-- --> <!-- -->вакансий</span></div></div>\n",
      "\n",
      "<div class=\"dashboard-tiles-item__body\"><div class=\"dashboard-tiles-item__content\"><div class=\"dashboard-tiles-item__title\">Кассир</div><div class=\"dashboard-tiles-item__salary\">15 000 – 100 000 <!-- -->руб.</div></div><div class=\"dashboard-tiles-item__counter\"><span>5719<!-- --> <!-- -->вакансий</span></div></div>\n",
      "\n",
      "<div class=\"dashboard-tiles-item__body\"><div class=\"dashboard-tiles-item__content\"><div class=\"dashboard-tiles-item__title\">Администратор</div><div class=\"dashboard-tiles-item__salary\">до <!-- -->215 000<!-- --> <!-- -->руб.</div></div><div class=\"dashboard-tiles-item__counter\"><span>7886<!-- --> <!-- -->вакансий</span></div></div>\n",
      "\n",
      "<div class=\"dashboard-tiles-item__body\"><div class=\"dashboard-tiles-item__content\"><div class=\"dashboard-tiles-item__title\">Оператор</div><div class=\"dashboard-tiles-item__salary\">до <!-- -->200 000<!-- --> <!-- -->руб.</div></div><div class=\"dashboard-tiles-item__counter\"><span>4796<!-- --> <!-- -->вакансий</span></div></div>\n",
      "\n",
      "<div class=\"dashboard-tiles-item__body\"><div class=\"dashboard-tiles-item__content\"><div class=\"dashboard-tiles-item__title\">Программист</div><div class=\"dashboard-tiles-item__salary\">до <!-- -->505 000<!-- --> <!-- -->руб.</div></div><div class=\"dashboard-tiles-item__counter\"><span>18280<!-- --> <!-- -->вакансий</span></div></div>\n",
      "\n",
      "<div class=\"dashboard-tiles-item__body\"><div class=\"dashboard-tiles-item__content\"><div class=\"dashboard-tiles-item__title\">Менеджер</div><div class=\"dashboard-tiles-item__salary\">до <!-- -->345 000<!-- --> <!-- -->руб.</div></div><div class=\"dashboard-tiles-item__counter\"><span>30638<!-- --> <!-- -->вакансий</span></div></div>\n",
      "\n"
     ]
    }
   ],
   "source": [
    "main_block = soup.find_all('div', class_='dashboard-tiles-item__body')\n",
    "\n",
    "for b in main_block:\n",
    "    print(b)\n",
    "    print()"
   ],
   "metadata": {
    "collapsed": false,
    "pycharm": {
     "name": "#%%\n"
    }
   }
  },
  {
   "cell_type": "code",
   "execution_count": 5,
   "outputs": [
    {
     "name": "stdout",
     "output_type": "stream",
     "text": [
      "<div class=\"dashboard-tiles-item__body\"><div class=\"dashboard-tiles-item__content\"><div class=\"dashboard-tiles-item__title\">Программист</div><div class=\"dashboard-tiles-item__salary\">до <!-- -->505 000<!-- --> <!-- -->руб.</div></div><div class=\"dashboard-tiles-item__counter\"><span>18280<!-- --> <!-- -->вакансий</span></div></div>\n"
     ]
    }
   ],
   "source": [
    "for sub in main_block:\n",
    "    if sub.find('div', class_='dashboard-tiles-item__title').text == profession:\n",
    "        profession_selected_block = sub\n",
    "print(profession_selected_block)"
   ],
   "metadata": {
    "collapsed": false,
    "pycharm": {
     "name": "#%%\n"
    }
   }
  },
  {
   "cell_type": "code",
   "execution_count": 6,
   "outputs": [],
   "source": [
    "from selenium.webdriver.support.wait import WebDriverWait\n",
    "\n",
    "professions = driver.find_elements(by=By.CLASS_NAME, value='dashboard-tiles-item__title')\n",
    "\n",
    "links_to_profession = list()\n",
    "\n",
    "if professions:\n",
    "    professions[0].click()\n",
    "    professions[0].click()\n",
    "\n",
    "for elem in professions:\n",
    "    if elem.text == profession:\n",
    "        elem.click()\n",
    "        element = WebDriverWait(driver, 3).until(\n",
    "            EC.presence_of_element_located((By.XPATH, \"//*[@class='multiple-column-list multiple-column-list_wide']\"))\n",
    "        )\n",
    "        soup = BeautifulSoup(driver.page_source, 'lxml')\n",
    "        ul = soup.find(class_='multiple-column-list multiple-column-list_wide')\n",
    "        for li in ul:\n",
    "            links_to_profession.append(li.a.get('href'))"
   ],
   "metadata": {
    "collapsed": false,
    "pycharm": {
     "name": "#%%\n"
    }
   }
  },
  {
   "cell_type": "code",
   "execution_count": 7,
   "outputs": [],
   "source": [
    "def scrap_offer(link, data):\n",
    "    driver.get(link)\n",
    "    driver.implicitly_wait(1)\n",
    "    src = driver.page_source\n",
    "\n",
    "    soup = BeautifulSoup(src, parser='lxml')\n",
    "    header = soup.find('div', class_='vacancy-company-wrapper')\n",
    "    reviews_button = header.find('button', class_='_2kMmwZ7___bloko-link _2iCEfb3___bloko-link_pseudo')\n",
    "    if reviews_button:\n",
    "        reviews_number = reviews_button.span.text.split()[0]\n",
    "        rating = header.find('div', class_='_2uXXPFp___bloko-text _3Iu9HPD___bloko-text_extra-large mmwQivW___bloko-text_strong').text\n",
    "    else:\n",
    "        reviews_number = None\n",
    "        rating = None\n",
    "\n",
    "    data['reviews_count'].append(reviews_number)\n",
    "    data['avg_rating'].append(rating)\n"
   ],
   "metadata": {
    "collapsed": false,
    "pycharm": {
     "name": "#%%\n"
    }
   }
  },
  {
   "cell_type": "code",
   "execution_count": null,
   "outputs": [],
   "source": [
    "data = {'prof_type': list(), 'salary': list(), 'reviews_count': list(), 'avg_rating': list()}\n",
    "page = 0\n",
    "for link in links_to_profession[:3]:\n",
    "    req = requests.get(f'{URL}{link}&page={page}', headers={'User-Agent': 'Custom'})\n",
    "\n",
    "    while req.status_code == 200:\n",
    "        soup = BeautifulSoup(req.text, parser='lxml')\n",
    "\n",
    "        prof_type = soup.find('h1', class_='bloko-header-section-3').text\n",
    "        prof_type = re.compile('«.*»').findall(prof_type)[0][1:-1]\n",
    "\n",
    "        for offer in soup.find_all('div', class_='vacancy-serp-item'):\n",
    "            raw_salary = offer.find('span', class_='bloko-header-section-3')\n",
    "\n",
    "            data['prof_type'].append(prof_type)\n",
    "\n",
    "            if not raw_salary:\n",
    "                data['salary'].append(None)\n",
    "            else:\n",
    "                salary = re.compile('\\d+').findall(raw_salary.text.replace(' ', ''))\n",
    "\n",
    "                if len(salary) > 1:\n",
    "                    data['salary'].append(f'{salary[0]}-{salary[1]}')\n",
    "                elif 'от' in raw_salary.text:\n",
    "                    data['salary'].append(f'от {salary[0]}')\n",
    "                elif 'до' in raw_salary.text:\n",
    "                    data['salary'].append(f'до {salary[0]}')\n",
    "                else:\n",
    "                    data['salary'].append(None)\n",
    "\n",
    "            offer_link = offer.find('a', class_='bloko-link').get('href')\n",
    "            try:\n",
    "                scrap_offer(offer_link, data)\n",
    "            except TimeoutException:\n",
    "                print('Timeout')\n",
    "\n",
    "\n",
    "        page += 1\n",
    "        req = requests.get(f'{URL}{link}&page={page}', headers={'User-Agent': 'Custom'})\n",
    "    page = 0\n",
    "\n",
    "\n",
    "\n",
    "df = pd.DataFrame(data=data)"
   ],
   "metadata": {
    "collapsed": false,
    "pycharm": {
     "name": "#%%\n",
     "is_executing": true
    }
   }
  },
  {
   "cell_type": "code",
   "execution_count": 9,
   "outputs": [
    {
     "data": {
      "text/plain": "           prof_type         salary\n0     Программист 1С      от 200000\n1     Программист 1С  200000-250000\n2     Программист 1С  140000-200000\n3     Программист 1С  250000-300000\n4     Программист 1С      от 250000\n...              ...            ...\n1946  Программист C#       от 50000\n1947  Программист C#           None\n1948  Программист C#           None\n1949  Программист C#           None\n1950  Программист C#        от 5000\n\n[1951 rows x 2 columns]",
      "text/html": "<div>\n<style scoped>\n    .dataframe tbody tr th:only-of-type {\n        vertical-align: middle;\n    }\n\n    .dataframe tbody tr th {\n        vertical-align: top;\n    }\n\n    .dataframe thead th {\n        text-align: right;\n    }\n</style>\n<table border=\"1\" class=\"dataframe\">\n  <thead>\n    <tr style=\"text-align: right;\">\n      <th></th>\n      <th>prof_type</th>\n      <th>salary</th>\n    </tr>\n  </thead>\n  <tbody>\n    <tr>\n      <th>0</th>\n      <td>Программист 1С</td>\n      <td>от 200000</td>\n    </tr>\n    <tr>\n      <th>1</th>\n      <td>Программист 1С</td>\n      <td>200000-250000</td>\n    </tr>\n    <tr>\n      <th>2</th>\n      <td>Программист 1С</td>\n      <td>140000-200000</td>\n    </tr>\n    <tr>\n      <th>3</th>\n      <td>Программист 1С</td>\n      <td>250000-300000</td>\n    </tr>\n    <tr>\n      <th>4</th>\n      <td>Программист 1С</td>\n      <td>от 250000</td>\n    </tr>\n    <tr>\n      <th>...</th>\n      <td>...</td>\n      <td>...</td>\n    </tr>\n    <tr>\n      <th>1946</th>\n      <td>Программист C#</td>\n      <td>от 50000</td>\n    </tr>\n    <tr>\n      <th>1947</th>\n      <td>Программист C#</td>\n      <td>None</td>\n    </tr>\n    <tr>\n      <th>1948</th>\n      <td>Программист C#</td>\n      <td>None</td>\n    </tr>\n    <tr>\n      <th>1949</th>\n      <td>Программист C#</td>\n      <td>None</td>\n    </tr>\n    <tr>\n      <th>1950</th>\n      <td>Программист C#</td>\n      <td>от 5000</td>\n    </tr>\n  </tbody>\n</table>\n<p>1951 rows × 2 columns</p>\n</div>"
     },
     "execution_count": 9,
     "metadata": {},
     "output_type": "execute_result"
    }
   ],
   "source": [
    "df"
   ],
   "metadata": {
    "collapsed": false,
    "pycharm": {
     "name": "#%%\n"
    }
   }
  },
  {
   "cell_type": "code",
   "execution_count": null,
   "outputs": [],
   "source": [],
   "metadata": {
    "collapsed": false,
    "pycharm": {
     "name": "#%%\n"
    }
   }
  }
 ],
 "metadata": {
  "kernelspec": {
   "display_name": "Python 3",
   "language": "python",
   "name": "python3"
  },
  "language_info": {
   "codemirror_mode": {
    "name": "ipython",
    "version": 2
   },
   "file_extension": ".py",
   "mimetype": "text/x-python",
   "name": "python",
   "nbconvert_exporter": "python",
   "pygments_lexer": "ipython2",
   "version": "2.7.6"
  }
 },
 "nbformat": 4,
 "nbformat_minor": 0
}