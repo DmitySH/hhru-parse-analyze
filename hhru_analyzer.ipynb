{
 "cells": [
  {
   "cell_type": "code",
   "execution_count": 42,
   "metadata": {
    "collapsed": true
   },
   "outputs": [],
   "source": [
    "import requests\n",
    "from bs4 import BeautifulSoup\n"
   ]
  },
  {
   "cell_type": "code",
   "execution_count": 43,
   "outputs": [],
   "source": [
    "headers = {\n",
    "    'Accept': '*/*',\n",
    "    'User-Agent': 'Custom'\n",
    "}\n",
    "\n",
    "url = 'https://hh.ru'\n",
    "profession = 'Программист'"
   ],
   "metadata": {
    "collapsed": false,
    "pycharm": {
     "name": "#%%\n"
    }
   }
  },
  {
   "cell_type": "code",
   "execution_count": 44,
   "outputs": [],
   "source": [
    "try:\n",
    "    req = requests.get(url, headers={'User-Agent': 'Custom'})\n",
    "    src = req.text\n",
    "    soup = BeautifulSoup(src, 'lxml')\n",
    "except Exception as ex:\n",
    "    print(ex)\n",
    "    soup = None"
   ],
   "metadata": {
    "collapsed": false,
    "pycharm": {
     "name": "#%%\n"
    }
   }
  },
  {
   "cell_type": "code",
   "execution_count": 45,
   "outputs": [
    {
     "name": "stdout",
     "output_type": "stream",
     "text": [
      "<div class=\"dashboard-tiles-item__body\"><div class=\"dashboard-tiles-item__content\"><div class=\"dashboard-tiles-item__title\">Вакансии дня</div><div class=\"dashboard-tiles-item__salary\"></div></div><div class=\"dashboard-tiles-item__counter\"> </div></div>\n",
      "\n",
      "<div class=\"dashboard-tiles-item__body\"><div class=\"dashboard-tiles-item__content\"><div class=\"dashboard-tiles-item__title\">Компании дня</div><div class=\"dashboard-tiles-item__salary\"></div></div><div class=\"dashboard-tiles-item__counter\"><span>1972<!-- --> <!-- -->вакансии</span></div></div>\n",
      "\n",
      "<div class=\"dashboard-tiles-item__body\"><div class=\"dashboard-tiles-item__content\"><div class=\"dashboard-tiles-item__title\">Работа из дома</div><div class=\"dashboard-tiles-item__salary\"></div></div><div class=\"dashboard-tiles-item__counter\"><span>37265<!-- --> <!-- -->вакансий</span></div></div>\n",
      "\n",
      "<div class=\"dashboard-tiles-item__body\"><div class=\"dashboard-tiles-item__content\"><div class=\"dashboard-tiles-item__title\">Подработка</div><div class=\"dashboard-tiles-item__salary\">до <!-- -->340 000<!-- --> <!-- -->руб.</div></div><div class=\"dashboard-tiles-item__counter\"><span>16328<!-- --> <!-- -->вакансий</span></div></div>\n",
      "\n",
      "<div class=\"dashboard-tiles-item__body\"><div class=\"dashboard-tiles-item__content\"><div class=\"dashboard-tiles-item__title\">Курьер</div><div class=\"dashboard-tiles-item__salary\">до <!-- -->165 000<!-- --> <!-- -->руб.</div></div><div class=\"dashboard-tiles-item__counter\"><span>2160<!-- --> <!-- -->вакансий</span></div></div>\n",
      "\n",
      "<div class=\"dashboard-tiles-item__body\"><div class=\"dashboard-tiles-item__content\"><div class=\"dashboard-tiles-item__title\">Водитель</div><div class=\"dashboard-tiles-item__salary\">до <!-- -->200 000<!-- --> <!-- -->руб.</div></div><div class=\"dashboard-tiles-item__counter\"><span>3559<!-- --> <!-- -->вакансий</span></div></div>\n",
      "\n",
      "<div class=\"dashboard-tiles-item__body\"><div class=\"dashboard-tiles-item__content\"><div class=\"dashboard-tiles-item__title\">Продавец</div><div class=\"dashboard-tiles-item__salary\">15 000 – 150 000 <!-- -->руб.</div></div><div class=\"dashboard-tiles-item__counter\"><span>8390<!-- --> <!-- -->вакансий</span></div></div>\n",
      "\n",
      "<div class=\"dashboard-tiles-item__body\"><div class=\"dashboard-tiles-item__content\"><div class=\"dashboard-tiles-item__title\">Кассир</div><div class=\"dashboard-tiles-item__salary\">15 000 – 100 000 <!-- -->руб.</div></div><div class=\"dashboard-tiles-item__counter\"><span>5780<!-- --> <!-- -->вакансий</span></div></div>\n",
      "\n",
      "<div class=\"dashboard-tiles-item__body\"><div class=\"dashboard-tiles-item__content\"><div class=\"dashboard-tiles-item__title\">Администратор</div><div class=\"dashboard-tiles-item__salary\">до <!-- -->225 000<!-- --> <!-- -->руб.</div></div><div class=\"dashboard-tiles-item__counter\"><span>7898<!-- --> <!-- -->вакансий</span></div></div>\n",
      "\n",
      "<div class=\"dashboard-tiles-item__body\"><div class=\"dashboard-tiles-item__content\"><div class=\"dashboard-tiles-item__title\">Оператор</div><div class=\"dashboard-tiles-item__salary\">10 000 – 200 000 <!-- -->руб.</div></div><div class=\"dashboard-tiles-item__counter\"><span>4825<!-- --> <!-- -->вакансий</span></div></div>\n",
      "\n",
      "<div class=\"dashboard-tiles-item__body\"><div class=\"dashboard-tiles-item__content\"><div class=\"dashboard-tiles-item__title\">Программист</div><div class=\"dashboard-tiles-item__salary\">до <!-- -->505 000<!-- --> <!-- -->руб.</div></div><div class=\"dashboard-tiles-item__counter\"><span>18345<!-- --> <!-- -->вакансий</span></div></div>\n",
      "\n",
      "<div class=\"dashboard-tiles-item__body\"><div class=\"dashboard-tiles-item__content\"><div class=\"dashboard-tiles-item__title\">Менеджер</div><div class=\"dashboard-tiles-item__salary\">до <!-- -->345 000<!-- --> <!-- -->руб.</div></div><div class=\"dashboard-tiles-item__counter\"><span>30669<!-- --> <!-- -->вакансий</span></div></div>\n",
      "\n"
     ]
    }
   ],
   "source": [
    "main_block = soup.find_all('div', class_='dashboard-tiles-item__body')\n",
    "\n",
    "for b in main_block:\n",
    "    print(b)\n",
    "    print()"
   ],
   "metadata": {
    "collapsed": false,
    "pycharm": {
     "name": "#%%\n"
    }
   }
  },
  {
   "cell_type": "code",
   "execution_count": 47,
   "outputs": [
    {
     "name": "stdout",
     "output_type": "stream",
     "text": [
      "<div class=\"dashboard-tiles-item__body\"><div class=\"dashboard-tiles-item__content\"><div class=\"dashboard-tiles-item__title\">Программист</div><div class=\"dashboard-tiles-item__salary\">до <!-- -->505 000<!-- --> <!-- -->руб.</div></div><div class=\"dashboard-tiles-item__counter\"><span>18345<!-- --> <!-- -->вакансий</span></div></div>\n"
     ]
    }
   ],
   "source": [
    "for sub in main_block:\n",
    "    if sub.find('div', class_='dashboard-tiles-item__title').text == profession:\n",
    "        proffession_selected_block = sub\n",
    "print(proffession_selected_block)"
   ],
   "metadata": {
    "collapsed": false,
    "pycharm": {
     "name": "#%%\n"
    }
   }
  },
  {
   "cell_type": "code",
   "execution_count": 46,
   "outputs": [],
   "source": [],
   "metadata": {
    "collapsed": false,
    "pycharm": {
     "name": "#%%\n"
    }
   }
  },
  {
   "cell_type": "code",
   "execution_count": null,
   "outputs": [],
   "source": [],
   "metadata": {
    "collapsed": false,
    "pycharm": {
     "name": "#%%\n"
    }
   }
  }
 ],
 "metadata": {
  "kernelspec": {
   "display_name": "Python 3",
   "language": "python",
   "name": "python3"
  },
  "language_info": {
   "codemirror_mode": {
    "name": "ipython",
    "version": 2
   },
   "file_extension": ".py",
   "mimetype": "text/x-python",
   "name": "python",
   "nbconvert_exporter": "python",
   "pygments_lexer": "ipython2",
   "version": "2.7.6"
  }
 },
 "nbformat": 4,
 "nbformat_minor": 0
}